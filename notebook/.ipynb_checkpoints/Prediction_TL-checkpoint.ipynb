{
 "cells": [
  {
   "cell_type": "markdown",
   "id": "confidential-brief",
   "metadata": {},
   "source": [
    "## Load libraries"
   ]
  },
  {
   "cell_type": "code",
   "execution_count": 42,
   "id": "sized-klein",
   "metadata": {},
   "outputs": [],
   "source": [
    "# Add root project directory to path\n",
    "import sys\n",
    "sys.path.append(\"../\")\n",
    "\n",
    "import tensorflow as tf\n",
    "import pandas as pd\n",
    "import numpy as np\n",
    "import os\n",
    "import matplotlib.pyplot as plt\n",
    "import pickle\n",
    "import time\n",
    "from collections import defaultdict\n",
    "from pathlib import Path\n",
    "\n",
    "from diffnet.dataset_loader import *\n",
    "from diffnet.diffnet import *"
   ]
  },
  {
   "cell_type": "markdown",
   "id": "friendly-importance",
   "metadata": {},
   "source": [
    "## Check GPU status"
   ]
  },
  {
   "cell_type": "code",
   "execution_count": 43,
   "id": "unable-disclaimer",
   "metadata": {},
   "outputs": [
    {
     "name": "stdout",
     "output_type": "stream",
     "text": [
      "Thu May 26 15:25:50 2022       \r\n",
      "+-----------------------------------------------------------------------------+\r\n",
      "| NVIDIA-SMI 460.32.03    Driver Version: 460.32.03    CUDA Version: 11.2     |\r\n",
      "|-------------------------------+----------------------+----------------------+\r\n",
      "| GPU  Name        Persistence-M| Bus-Id        Disp.A | Volatile Uncorr. ECC |\r\n",
      "| Fan  Temp  Perf  Pwr:Usage/Cap|         Memory-Usage | GPU-Util  Compute M. |\r\n",
      "|                               |                      |               MIG M. |\r\n",
      "|===============================+======================+======================|\r\n",
      "|   0  GeForce RTX 208...  On   | 00000000:09:00.0 Off |                  N/A |\r\n",
      "| 35%   37C    P8    21W / 260W |     15MiB / 11019MiB |      0%      Default |\r\n",
      "|                               |                      |                  N/A |\r\n",
      "+-------------------------------+----------------------+----------------------+\r\n",
      "|   1  GeForce RTX 208...  On   | 00000000:0A:00.0 Off |                  N/A |\r\n",
      "| 35%   33C    P8    21W / 260W |    483MiB / 11019MiB |      0%      Default |\r\n",
      "|                               |                      |                  N/A |\r\n",
      "+-------------------------------+----------------------+----------------------+\r\n",
      "                                                                               \r\n",
      "+-----------------------------------------------------------------------------+\r\n",
      "| Processes:                                                                  |\r\n",
      "|  GPU   GI   CI        PID   Type   Process name                  GPU Memory |\r\n",
      "|        ID   ID                                                   Usage      |\r\n",
      "|=============================================================================|\r\n",
      "|    0   N/A  N/A      1440      G   /usr/lib/xorg/Xorg                  9MiB |\r\n",
      "|    0   N/A  N/A      1597      G   /usr/bin/gnome-shell                4MiB |\r\n",
      "|    1   N/A  N/A      1440      G   /usr/lib/xorg/Xorg                  4MiB |\r\n",
      "|    1   N/A  N/A    334132      C   ...3/envs/diffnet/bin/python      475MiB |\r\n",
      "+-----------------------------------------------------------------------------+\r\n"
     ]
    }
   ],
   "source": [
    "!nvidia-smi"
   ]
  },
  {
   "cell_type": "code",
   "execution_count": 44,
   "id": "contained-rhythm",
   "metadata": {},
   "outputs": [],
   "source": [
    "import os\n",
    "os.environ[\"CUDA_VISIBLE_DEVICES\"] =\"1\"\n",
    "\n",
    "tf.config.list_physical_devices(\"GPU\")\n",
    "\n",
    "# allocate as small memory as possible\n",
    "config = tf.compat.v1.ConfigProto()\n",
    "config.gpu_options.allow_growth=True\n",
    "session = tf.compat.v1.Session(config=config)"
   ]
  },
  {
   "cell_type": "markdown",
   "id": "exotic-unknown",
   "metadata": {},
   "source": [
    "## Load input file"
   ]
  },
  {
   "cell_type": "code",
   "execution_count": 45,
   "id": "corrected-corruption",
   "metadata": {},
   "outputs": [],
   "source": [
    "FEATURE_INPUT_FILES = [\"../data/features/core_mof_geo+gridhist_50.txt\"]\n",
    "LABEL_INPUT_FILES = [\"../data/labels/coremof_d_ch4_rawset.txt\"]\n",
    "\n",
    "f_input_df = pd.read_csv(FEATURE_INPUT_FILES[0], sep=\"\\s+\", index_col=0)\n",
    "l_input_df = pd.read_csv(LABEL_INPUT_FILES[0], sep=\"\\s+\", index_col=0, header=None)\n",
    "\n",
    "for i in range(len(FEATURE_INPUT_FILES)-1):\n",
    "    idx = i+1\n",
    "    \n",
    "    try:\n",
    "        f_df = pd.read_csv(FEATURE_INPUT_FILES[idx], sep=\"\\s+\", index_col=0)\n",
    "        l_df = pd.read_csv(LABEL_INPUT_FILES[idx], sep=\"\\s+\", index_col=0, header=None)\n",
    "\n",
    "        f_input_df = pd.concat([f_input_df, f_df])\n",
    "        l_input_df = pd.concat([l_input_df, l_df])\n",
    "    \n",
    "    except:\n",
    "        continue\n",
    "    \n",
    "f_input_df = f_input_df.sample(frac=1)"
   ]
  },
  {
   "cell_type": "code",
   "execution_count": 46,
   "id": "exclusive-viewer",
   "metadata": {},
   "outputs": [],
   "source": [
    "## normalize geometric features\n",
    "geo_cols = f_input_df.columns[:5]\n",
    "geo_df = f_input_df[:][geo_cols]\n",
    "\n",
    "max_v = [60, 60, 4000, 10000, 1]\n",
    "    \n",
    "f_input_df[:][geo_cols] = f_input_df[:][geo_cols] / max_v"
   ]
  },
  {
   "cell_type": "code",
   "execution_count": 47,
   "id": "beneficial-stevens",
   "metadata": {},
   "outputs": [
    {
     "data": {
      "text/html": [
       "<div>\n",
       "<style scoped>\n",
       "    .dataframe tbody tr th:only-of-type {\n",
       "        vertical-align: middle;\n",
       "    }\n",
       "\n",
       "    .dataframe tbody tr th {\n",
       "        vertical-align: top;\n",
       "    }\n",
       "\n",
       "    .dataframe thead th {\n",
       "        text-align: right;\n",
       "    }\n",
       "</style>\n",
       "<table border=\"1\" class=\"dataframe\">\n",
       "  <thead>\n",
       "    <tr style=\"text-align: right;\">\n",
       "      <th></th>\n",
       "      <th>LCD</th>\n",
       "      <th>PLD</th>\n",
       "      <th>Vol_ASA</th>\n",
       "      <th>Grav_ASA</th>\n",
       "      <th>Void_fraction</th>\n",
       "      <th>0.0</th>\n",
       "      <th>0.02</th>\n",
       "      <th>0.04</th>\n",
       "      <th>0.06</th>\n",
       "      <th>0.08</th>\n",
       "      <th>...</th>\n",
       "      <th>0.8</th>\n",
       "      <th>0.82</th>\n",
       "      <th>0.84</th>\n",
       "      <th>0.86</th>\n",
       "      <th>0.88</th>\n",
       "      <th>0.9</th>\n",
       "      <th>0.92</th>\n",
       "      <th>0.94</th>\n",
       "      <th>0.96</th>\n",
       "      <th>0.98</th>\n",
       "    </tr>\n",
       "    <tr>\n",
       "      <th>MOF</th>\n",
       "      <th></th>\n",
       "      <th></th>\n",
       "      <th></th>\n",
       "      <th></th>\n",
       "      <th></th>\n",
       "      <th></th>\n",
       "      <th></th>\n",
       "      <th></th>\n",
       "      <th></th>\n",
       "      <th></th>\n",
       "      <th></th>\n",
       "      <th></th>\n",
       "      <th></th>\n",
       "      <th></th>\n",
       "      <th></th>\n",
       "      <th></th>\n",
       "      <th></th>\n",
       "      <th></th>\n",
       "      <th></th>\n",
       "      <th></th>\n",
       "      <th></th>\n",
       "    </tr>\n",
       "  </thead>\n",
       "  <tbody>\n",
       "    <tr>\n",
       "      <th>UJOKIP03_clean</th>\n",
       "      <td>0.055587</td>\n",
       "      <td>0.042516</td>\n",
       "      <td>0.000000</td>\n",
       "      <td>0.000000</td>\n",
       "      <td>0.00000</td>\n",
       "      <td>0.0</td>\n",
       "      <td>0.0</td>\n",
       "      <td>0.0</td>\n",
       "      <td>0.0</td>\n",
       "      <td>0.0</td>\n",
       "      <td>...</td>\n",
       "      <td>0.000000</td>\n",
       "      <td>0.000000</td>\n",
       "      <td>0.000000</td>\n",
       "      <td>0.000000</td>\n",
       "      <td>0.000000</td>\n",
       "      <td>0.000000</td>\n",
       "      <td>0.000000</td>\n",
       "      <td>0.000000</td>\n",
       "      <td>0.000000</td>\n",
       "      <td>0.997041</td>\n",
       "    </tr>\n",
       "    <tr>\n",
       "      <th>MAQBIS_clean</th>\n",
       "      <td>0.189300</td>\n",
       "      <td>0.143197</td>\n",
       "      <td>0.575215</td>\n",
       "      <td>0.340980</td>\n",
       "      <td>0.32504</td>\n",
       "      <td>0.0</td>\n",
       "      <td>0.0</td>\n",
       "      <td>0.0</td>\n",
       "      <td>0.0</td>\n",
       "      <td>0.0</td>\n",
       "      <td>...</td>\n",
       "      <td>0.001791</td>\n",
       "      <td>0.002442</td>\n",
       "      <td>0.001791</td>\n",
       "      <td>0.001465</td>\n",
       "      <td>0.001628</td>\n",
       "      <td>0.001140</td>\n",
       "      <td>0.000326</td>\n",
       "      <td>0.000814</td>\n",
       "      <td>0.001302</td>\n",
       "      <td>0.637200</td>\n",
       "    </tr>\n",
       "    <tr>\n",
       "      <th>SETDUS_clean</th>\n",
       "      <td>0.078525</td>\n",
       "      <td>0.068322</td>\n",
       "      <td>0.443355</td>\n",
       "      <td>0.168411</td>\n",
       "      <td>0.07612</td>\n",
       "      <td>0.0</td>\n",
       "      <td>0.0</td>\n",
       "      <td>0.0</td>\n",
       "      <td>0.0</td>\n",
       "      <td>0.0</td>\n",
       "      <td>...</td>\n",
       "      <td>0.000000</td>\n",
       "      <td>0.007937</td>\n",
       "      <td>0.002646</td>\n",
       "      <td>0.000000</td>\n",
       "      <td>0.002646</td>\n",
       "      <td>0.000000</td>\n",
       "      <td>0.000000</td>\n",
       "      <td>0.000000</td>\n",
       "      <td>0.000000</td>\n",
       "      <td>0.882275</td>\n",
       "    </tr>\n",
       "    <tr>\n",
       "      <th>CUMQOQ_clean</th>\n",
       "      <td>0.117270</td>\n",
       "      <td>0.062573</td>\n",
       "      <td>0.512080</td>\n",
       "      <td>0.209610</td>\n",
       "      <td>0.16316</td>\n",
       "      <td>0.0</td>\n",
       "      <td>0.0</td>\n",
       "      <td>0.0</td>\n",
       "      <td>0.0</td>\n",
       "      <td>0.0</td>\n",
       "      <td>...</td>\n",
       "      <td>0.000000</td>\n",
       "      <td>0.001263</td>\n",
       "      <td>0.002525</td>\n",
       "      <td>0.002525</td>\n",
       "      <td>0.002525</td>\n",
       "      <td>0.002525</td>\n",
       "      <td>0.001263</td>\n",
       "      <td>0.001263</td>\n",
       "      <td>0.003788</td>\n",
       "      <td>0.787247</td>\n",
       "    </tr>\n",
       "    <tr>\n",
       "      <th>MUTDEM_clean</th>\n",
       "      <td>0.129143</td>\n",
       "      <td>0.058570</td>\n",
       "      <td>0.455695</td>\n",
       "      <td>0.188710</td>\n",
       "      <td>0.17542</td>\n",
       "      <td>0.0</td>\n",
       "      <td>0.0</td>\n",
       "      <td>0.0</td>\n",
       "      <td>0.0</td>\n",
       "      <td>0.0</td>\n",
       "      <td>...</td>\n",
       "      <td>0.001750</td>\n",
       "      <td>0.000875</td>\n",
       "      <td>0.001166</td>\n",
       "      <td>0.001750</td>\n",
       "      <td>0.002041</td>\n",
       "      <td>0.001166</td>\n",
       "      <td>0.000875</td>\n",
       "      <td>0.001458</td>\n",
       "      <td>0.001750</td>\n",
       "      <td>0.785100</td>\n",
       "    </tr>\n",
       "  </tbody>\n",
       "</table>\n",
       "<p>5 rows × 55 columns</p>\n",
       "</div>"
      ],
      "text/plain": [
       "                     LCD       PLD   Vol_ASA  Grav_ASA  Void_fraction  0.0  \\\n",
       "MOF                                                                          \n",
       "UJOKIP03_clean  0.055587  0.042516  0.000000  0.000000        0.00000  0.0   \n",
       "MAQBIS_clean    0.189300  0.143197  0.575215  0.340980        0.32504  0.0   \n",
       "SETDUS_clean    0.078525  0.068322  0.443355  0.168411        0.07612  0.0   \n",
       "CUMQOQ_clean    0.117270  0.062573  0.512080  0.209610        0.16316  0.0   \n",
       "MUTDEM_clean    0.129143  0.058570  0.455695  0.188710        0.17542  0.0   \n",
       "\n",
       "                0.02  0.04  0.06  0.08  ...       0.8      0.82      0.84  \\\n",
       "MOF                                     ...                                 \n",
       "UJOKIP03_clean   0.0   0.0   0.0   0.0  ...  0.000000  0.000000  0.000000   \n",
       "MAQBIS_clean     0.0   0.0   0.0   0.0  ...  0.001791  0.002442  0.001791   \n",
       "SETDUS_clean     0.0   0.0   0.0   0.0  ...  0.000000  0.007937  0.002646   \n",
       "CUMQOQ_clean     0.0   0.0   0.0   0.0  ...  0.000000  0.001263  0.002525   \n",
       "MUTDEM_clean     0.0   0.0   0.0   0.0  ...  0.001750  0.000875  0.001166   \n",
       "\n",
       "                    0.86      0.88       0.9      0.92      0.94      0.96  \\\n",
       "MOF                                                                          \n",
       "UJOKIP03_clean  0.000000  0.000000  0.000000  0.000000  0.000000  0.000000   \n",
       "MAQBIS_clean    0.001465  0.001628  0.001140  0.000326  0.000814  0.001302   \n",
       "SETDUS_clean    0.000000  0.002646  0.000000  0.000000  0.000000  0.000000   \n",
       "CUMQOQ_clean    0.002525  0.002525  0.002525  0.001263  0.001263  0.003788   \n",
       "MUTDEM_clean    0.001750  0.002041  0.001166  0.000875  0.001458  0.001750   \n",
       "\n",
       "                    0.98  \n",
       "MOF                       \n",
       "UJOKIP03_clean  0.997041  \n",
       "MAQBIS_clean    0.637200  \n",
       "SETDUS_clean    0.882275  \n",
       "CUMQOQ_clean    0.787247  \n",
       "MUTDEM_clean    0.785100  \n",
       "\n",
       "[5 rows x 55 columns]"
      ]
     },
     "execution_count": 47,
     "metadata": {},
     "output_type": "execute_result"
    }
   ],
   "source": [
    "f_input_df.head()"
   ]
  },
  {
   "cell_type": "code",
   "execution_count": 48,
   "id": "appreciated-sending",
   "metadata": {
    "scrolled": true
   },
   "outputs": [],
   "source": [
    "## normalize labels\n",
    "l_data = np.log10(l_input_df)"
   ]
  },
  {
   "cell_type": "code",
   "execution_count": 49,
   "id": "scientific-conclusion",
   "metadata": {},
   "outputs": [
    {
     "data": {
      "image/png": "[encoded data removed]",
      "text/plain": [
       "<Figure size 432x288 with 1 Axes>"
      ]
     },
     "metadata": {
      "needs_background": "light"
     },
     "output_type": "display_data"
    }
   ],
   "source": [
    "plt.hist(l_data)\n",
    "plt.show()"
   ]
  },
  {
   "cell_type": "code",
   "execution_count": 50,
   "id": "gross-cleaners",
   "metadata": {
    "scrolled": true
   },
   "outputs": [
    {
     "name": "stdout",
     "output_type": "stream",
     "text": [
      "1    2.222078\n",
      "dtype: float64\n",
      "1   -4.006035\n",
      "dtype: float64\n"
     ]
    }
   ],
   "source": [
    "print(np.max(l_data))\n",
    "print(np.min(l_data))"
   ]
  },
  {
   "cell_type": "code",
   "execution_count": 51,
   "id": "rubber-faculty",
   "metadata": {},
   "outputs": [],
   "source": [
    "max_v = 2.5\n",
    "min_v = -4.5"
   ]
  },
  {
   "cell_type": "code",
   "execution_count": 52,
   "id": "taken-liberia",
   "metadata": {
    "scrolled": true
   },
   "outputs": [],
   "source": [
    "## normalize data\n",
    "l_data = (l_data - min_v ) / (max_v - min_v)"
   ]
  },
  {
   "cell_type": "code",
   "execution_count": 53,
   "id": "clinical-pennsylvania",
   "metadata": {},
   "outputs": [],
   "source": [
    "f_data = f_input_df.copy()"
   ]
  },
  {
   "cell_type": "markdown",
   "id": "constitutional-lunch",
   "metadata": {},
   "source": [
    "## Prediction"
   ]
  },
  {
   "cell_type": "code",
   "execution_count": 82,
   "id": "sunrise-trainer",
   "metadata": {},
   "outputs": [],
   "source": [
    "# For Transfer learning checkpoint use below option\n",
    "#prefix = \"../checkpoint/Direct_learning/size_300/\"\n",
    "prefix = \"../checkpoint/Transfer_learning/size_300/source_100bar/\"\n",
    "\n",
    "set_idx = 10\n",
    "raw_path = f\"{prefix}/set_{set_idx}\"\n",
    "\n",
    "# load test data used in the training\n",
    "with open(f\"{raw_path}/test_data.pickle\", \"rb\") as f:\n",
    "    test_data = pickle.load(f)\n",
    "\n",
    "# load save weights\n",
    "save_weights_path = str(list(Path(raw_path).glob(\"*.h5\"))[0])"
   ]
  },
  {
   "cell_type": "code",
   "execution_count": 83,
   "id": "streaming-mustang",
   "metadata": {},
   "outputs": [
    {
     "name": "stdout",
     "output_type": "stream",
     "text": [
      "test data : 60\n"
     ]
    }
   ],
   "source": [
    "print(\"test data : {}\".format(len(test_data)))"
   ]
  },
  {
   "cell_type": "code",
   "execution_count": 84,
   "id": "substantial-parade",
   "metadata": {},
   "outputs": [],
   "source": [
    "dataloader = DataLoader()"
   ]
  },
  {
   "cell_type": "code",
   "execution_count": 85,
   "id": "decent-monitor",
   "metadata": {},
   "outputs": [],
   "source": [
    "test_f_data, test_l_data = dataloader.arrange_data(f_data, l_data, test_data)\n",
    "\n",
    "test_dataset = dataloader.make_dataset(np.array(test_f_data), np.array(test_l_data),\n",
    "                           batch_size=len(test_l_data), shuffle=False, repeat=False)\n",
    "\n",
    "test_dataset = test_dataset.batch(len(test_l_data))"
   ]
  },
  {
   "cell_type": "code",
   "execution_count": 86,
   "id": "neutral-demographic",
   "metadata": {},
   "outputs": [],
   "source": [
    "# necessary function\n",
    "def cal_mse(y_true, y_pred):\n",
    "    loss = tf.reduce_mean(tf.square(y_true-y_pred))\n",
    "    return loss"
   ]
  },
  {
   "cell_type": "code",
   "execution_count": 87,
   "id": "vulnerable-anchor",
   "metadata": {},
   "outputs": [],
   "source": [
    "from sklearn.metrics import r2_score"
   ]
  },
  {
   "cell_type": "code",
   "execution_count": 88,
   "id": "legitimate-bandwidth",
   "metadata": {},
   "outputs": [
    {
     "name": "stdout",
     "output_type": "stream",
     "text": [
      "WARNING:tensorflow:11 out of the last 11 calls to <function DiffNET.call at 0x7f33580fca60> triggered tf.function retracing. Tracing is expensive and the excessive number of tracings could be due to (1) creating @tf.function repeatedly in a loop, (2) passing tensors with different shapes, (3) passing Python objects instead of tensors. For (1), please define your @tf.function outside of the loop. For (2), @tf.function has experimental_relax_shapes=True option that relaxes argument shapes that can avoid unnecessary retracing. For (3), please refer to https://www.tensorflow.org/guide/function#controlling_retracing and https://www.tensorflow.org/api_docs/python/tf/function for  more details.\n",
      "WARNING:tensorflow:11 out of the last 11 calls to <function DiffNET.call at 0x7f33580fca60> triggered tf.function retracing. Tracing is expensive and the excessive number of tracings could be due to (1) creating @tf.function repeatedly in a loop, (2) passing tensors with different shapes, (3) passing Python objects instead of tensors. For (1), please define your @tf.function outside of the loop. For (2), @tf.function has experimental_relax_shapes=True option that relaxes argument shapes that can avoid unnecessary retracing. For (3), please refer to https://www.tensorflow.org/guide/function#controlling_retracing and https://www.tensorflow.org/api_docs/python/tf/function for  more details.\n"
     ]
    },
    {
     "data": {
      "image/png": "[encoded data removed]",
      "text/plain": [
       "<Figure size 720x720 with 1 Axes>"
      ]
     },
     "metadata": {
      "needs_background": "light"
     },
     "output_type": "display_data"
    }
   ],
   "source": [
    "# load diffnet\n",
    "diffnet = DiffNET(input_size=(len(f_data.columns),))\n",
    "diffnet.initialize_weights()\n",
    "diffnet.load_weights(save_weights_path)\n",
    "\n",
    "# load test set data\n",
    "test_y_pred = []\n",
    "test_y_true = []\n",
    "\n",
    "for x, y in test_dataset:\n",
    "    _y = diffnet(x, training=False)\n",
    "    test_y_pred += _y.numpy().reshape(-1).tolist()\n",
    "    test_y_true += y.numpy().reshape(-1).tolist()\n",
    "\n",
    "test_y_pred = np.array(test_y_pred)\n",
    "test_y_true = np.array(test_y_true)\n",
    "\n",
    "# convert into raw value\n",
    "y_true_ = test_y_true * (max_v - min_v) + min_v\n",
    "y_pred_ = test_y_pred * (max_v - min_v) + min_v\n",
    "\n",
    "# in log scale (only for KH)\n",
    "test_mse = cal_mse(y_true=y_true_, y_pred=y_pred_).numpy().item()\n",
    "test_r2score = r2_score(y_true_, y_pred_)\n",
    "\n",
    "plt.figure(figsize=(10,10))\n",
    "plt.scatter(y_true_, y_pred_, alpha=0.5, s=100)\n",
    "plt.plot([-4, 5], [-4, 5], color=\"black\", ls=\":\")\n",
    "plt.xticks(fontsize=20)\n",
    "plt.yticks(fontsize=20)\n",
    "plt.xlabel(\"True (in log scale)\", fontsize=25)\n",
    "plt.ylabel(\"Prediction (in log scale)\", fontsize=25)\n",
    "plt.text(-4, 4, \"RMSE : {:.4f} (in log scale)\".format(np.sqrt(test_mse)), fontsize=25)\n",
    "plt.text(-4, 3.5, \"R2 score : {:.4f} (in log scale)\".format(test_r2score), fontsize=25)\n",
    "plt.show()"
   ]
  }
 ],
 "metadata": {
  "kernelspec": {
   "display_name": "Python 3",
   "language": "python",
   "name": "python3"
  },
  "language_info": {
   "codemirror_mode": {
    "name": "ipython",
    "version": 3
   },
   "file_extension": ".py",
   "mimetype": "text/x-python",
   "name": "python",
   "nbconvert_exporter": "python",
   "pygments_lexer": "ipython3",
   "version": "3.8.8"
  }
 },
 "nbformat": 4,
 "nbformat_minor": 5
}
