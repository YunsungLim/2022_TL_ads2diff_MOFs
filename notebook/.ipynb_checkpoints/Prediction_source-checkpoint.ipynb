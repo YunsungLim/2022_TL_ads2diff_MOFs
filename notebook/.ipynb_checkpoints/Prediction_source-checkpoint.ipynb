{
 "cells": [
  {
   "cell_type": "markdown",
   "id": "confidential-brief",
   "metadata": {},
   "source": [
    "## Load libraries"
   ]
  },
  {
   "cell_type": "code",
   "execution_count": 58,
   "id": "sized-klein",
   "metadata": {},
   "outputs": [],
   "source": [
    "# Add root project directory to path\n",
    "import sys\n",
    "sys.path.append(\"../\")\n",
    "\n",
    "import tensorflow as tf\n",
    "import pandas as pd\n",
    "import numpy as np\n",
    "import os\n",
    "import matplotlib.pyplot as plt\n",
    "import pickle\n",
    "import time\n",
    "from collections import defaultdict\n",
    "from pathlib import Path\n",
    "\n",
    "from diffnet.dataset_loader import *\n",
    "from diffnet.diffnet import *"
   ]
  },
  {
   "cell_type": "markdown",
   "id": "friendly-importance",
   "metadata": {},
   "source": [
    "## Check GPU status"
   ]
  },
  {
   "cell_type": "code",
   "execution_count": 59,
   "id": "unable-disclaimer",
   "metadata": {},
   "outputs": [
    {
     "name": "stdout",
     "output_type": "stream",
     "text": [
      "Thu May 26 16:04:44 2022       \r\n",
      "+-----------------------------------------------------------------------------+\r\n",
      "| NVIDIA-SMI 460.32.03    Driver Version: 460.32.03    CUDA Version: 11.2     |\r\n",
      "|-------------------------------+----------------------+----------------------+\r\n",
      "| GPU  Name        Persistence-M| Bus-Id        Disp.A | Volatile Uncorr. ECC |\r\n",
      "| Fan  Temp  Perf  Pwr:Usage/Cap|         Memory-Usage | GPU-Util  Compute M. |\r\n",
      "|                               |                      |               MIG M. |\r\n",
      "|===============================+======================+======================|\r\n",
      "|   0  GeForce RTX 208...  On   | 00000000:09:00.0 Off |                  N/A |\r\n",
      "| 35%   37C    P8    21W / 260W |     15MiB / 11019MiB |      0%      Default |\r\n",
      "|                               |                      |                  N/A |\r\n",
      "+-------------------------------+----------------------+----------------------+\r\n",
      "|   1  GeForce RTX 208...  On   | 00000000:0A:00.0 Off |                  N/A |\r\n",
      "| 35%   38C    P2    60W / 260W |    511MiB / 11019MiB |      0%      Default |\r\n",
      "|                               |                      |                  N/A |\r\n",
      "+-------------------------------+----------------------+----------------------+\r\n",
      "                                                                               \r\n",
      "+-----------------------------------------------------------------------------+\r\n",
      "| Processes:                                                                  |\r\n",
      "|  GPU   GI   CI        PID   Type   Process name                  GPU Memory |\r\n",
      "|        ID   ID                                                   Usage      |\r\n",
      "|=============================================================================|\r\n",
      "|    0   N/A  N/A      1440      G   /usr/lib/xorg/Xorg                  9MiB |\r\n",
      "|    0   N/A  N/A      1597      G   /usr/bin/gnome-shell                4MiB |\r\n",
      "|    1   N/A  N/A      1440      G   /usr/lib/xorg/Xorg                  4MiB |\r\n",
      "|    1   N/A  N/A    335739      C   ...3/envs/diffnet/bin/python      503MiB |\r\n",
      "+-----------------------------------------------------------------------------+\r\n"
     ]
    }
   ],
   "source": [
    "!nvidia-smi"
   ]
  },
  {
   "cell_type": "code",
   "execution_count": 60,
   "id": "contained-rhythm",
   "metadata": {},
   "outputs": [],
   "source": [
    "import os\n",
    "os.environ[\"CUDA_VISIBLE_DEVICES\"] =\"1\"\n",
    "\n",
    "tf.config.list_physical_devices(\"GPU\")\n",
    "\n",
    "# allocate as small memory as possible\n",
    "config = tf.compat.v1.ConfigProto()\n",
    "config.gpu_options.allow_growth=True\n",
    "session = tf.compat.v1.Session(config=config)"
   ]
  },
  {
   "cell_type": "markdown",
   "id": "exotic-unknown",
   "metadata": {},
   "source": [
    "## Load input file"
   ]
  },
  {
   "cell_type": "code",
   "execution_count": 74,
   "id": "corrected-corruption",
   "metadata": {},
   "outputs": [],
   "source": [
    "FEATURE_INPUT_FILES = [\"../data/features/pormake_geo+gridhist_50.txt\", \"../data/features/tobacco_geo+gridhist_50.txt\"]\n",
    "LABEL_INPUT_FILES = [\"../data/labels/pormake_adsorption_isotherm_ch4.txt\", \"../data/labels/tobacco_adsorption_isotherm_ch4.txt\"]\n",
    "\n",
    "f_input_df = pd.read_csv(FEATURE_INPUT_FILES[0], sep=\"\\s+\", index_col=0)\n",
    "l_input_df = pd.read_csv(LABEL_INPUT_FILES[0], sep=\"\\s+\", index_col=0, header=None)\n",
    "\n",
    "for i in range(len(FEATURE_INPUT_FILES)-1):\n",
    "    idx = i+1\n",
    "    \n",
    "    try:\n",
    "        f_df = pd.read_csv(FEATURE_INPUT_FILES[idx], sep=\"\\s+\", index_col=0)\n",
    "        l_df = pd.read_csv(LABEL_INPUT_FILES[idx], sep=\"\\s+\", index_col=0, header=None)\n",
    "\n",
    "        f_input_df = pd.concat([f_input_df, f_df])\n",
    "        l_input_df = pd.concat([l_input_df, l_df])\n",
    "    \n",
    "    except:\n",
    "        continue\n",
    "    \n",
    "f_input_df = f_input_df.sample(frac=1)"
   ]
  },
  {
   "cell_type": "code",
   "execution_count": 75,
   "id": "exclusive-viewer",
   "metadata": {},
   "outputs": [],
   "source": [
    "## normalize geometric features\n",
    "geo_cols = f_input_df.columns[:5]\n",
    "geo_df = f_input_df[:][geo_cols]\n",
    "\n",
    "max_v = [60, 60, 4000, 10000, 1]\n",
    "    \n",
    "f_input_df[:][geo_cols] = f_input_df[:][geo_cols] / max_v"
   ]
  },
  {
   "cell_type": "code",
   "execution_count": 76,
   "id": "beneficial-stevens",
   "metadata": {},
   "outputs": [
    {
     "data": {
      "text/html": [
       "<div>\n",
       "<style scoped>\n",
       "    .dataframe tbody tr th:only-of-type {\n",
       "        vertical-align: middle;\n",
       "    }\n",
       "\n",
       "    .dataframe tbody tr th {\n",
       "        vertical-align: top;\n",
       "    }\n",
       "\n",
       "    .dataframe thead th {\n",
       "        text-align: right;\n",
       "    }\n",
       "</style>\n",
       "<table border=\"1\" class=\"dataframe\">\n",
       "  <thead>\n",
       "    <tr style=\"text-align: right;\">\n",
       "      <th></th>\n",
       "      <th>LCD</th>\n",
       "      <th>PLD</th>\n",
       "      <th>Vol_ASA</th>\n",
       "      <th>Grav_ASA</th>\n",
       "      <th>Void_fraction</th>\n",
       "      <th>0.0</th>\n",
       "      <th>0.02</th>\n",
       "      <th>0.04</th>\n",
       "      <th>0.06</th>\n",
       "      <th>0.08</th>\n",
       "      <th>...</th>\n",
       "      <th>0.8</th>\n",
       "      <th>0.82</th>\n",
       "      <th>0.84</th>\n",
       "      <th>0.86</th>\n",
       "      <th>0.88</th>\n",
       "      <th>0.9</th>\n",
       "      <th>0.92</th>\n",
       "      <th>0.94</th>\n",
       "      <th>0.96</th>\n",
       "      <th>0.98</th>\n",
       "    </tr>\n",
       "    <tr>\n",
       "      <th>MOF</th>\n",
       "      <th></th>\n",
       "      <th></th>\n",
       "      <th></th>\n",
       "      <th></th>\n",
       "      <th></th>\n",
       "      <th></th>\n",
       "      <th></th>\n",
       "      <th></th>\n",
       "      <th></th>\n",
       "      <th></th>\n",
       "      <th></th>\n",
       "      <th></th>\n",
       "      <th></th>\n",
       "      <th></th>\n",
       "      <th></th>\n",
       "      <th></th>\n",
       "      <th></th>\n",
       "      <th></th>\n",
       "      <th></th>\n",
       "      <th></th>\n",
       "      <th></th>\n",
       "    </tr>\n",
       "  </thead>\n",
       "  <tbody>\n",
       "    <tr>\n",
       "      <th>bbc+N218+N514+E192+E67+E210</th>\n",
       "      <td>0.312735</td>\n",
       "      <td>0.267591</td>\n",
       "      <td>0.460072</td>\n",
       "      <td>0.595613</td>\n",
       "      <td>0.63358</td>\n",
       "      <td>0.0</td>\n",
       "      <td>0.0</td>\n",
       "      <td>0.0</td>\n",
       "      <td>0.0</td>\n",
       "      <td>0.0</td>\n",
       "      <td>...</td>\n",
       "      <td>0.001502</td>\n",
       "      <td>0.001568</td>\n",
       "      <td>0.001101</td>\n",
       "      <td>0.001435</td>\n",
       "      <td>0.001368</td>\n",
       "      <td>0.001001</td>\n",
       "      <td>0.001134</td>\n",
       "      <td>0.001235</td>\n",
       "      <td>0.000934</td>\n",
       "      <td>0.341041</td>\n",
       "    </tr>\n",
       "    <tr>\n",
       "      <th>unj+N237+E175</th>\n",
       "      <td>0.268162</td>\n",
       "      <td>0.205742</td>\n",
       "      <td>0.476590</td>\n",
       "      <td>0.417900</td>\n",
       "      <td>0.58442</td>\n",
       "      <td>0.0</td>\n",
       "      <td>0.0</td>\n",
       "      <td>0.0</td>\n",
       "      <td>0.0</td>\n",
       "      <td>0.0</td>\n",
       "      <td>...</td>\n",
       "      <td>0.001478</td>\n",
       "      <td>0.001642</td>\n",
       "      <td>0.001724</td>\n",
       "      <td>0.001067</td>\n",
       "      <td>0.000493</td>\n",
       "      <td>0.001642</td>\n",
       "      <td>0.001314</td>\n",
       "      <td>0.001314</td>\n",
       "      <td>0.001314</td>\n",
       "      <td>0.378571</td>\n",
       "    </tr>\n",
       "    <tr>\n",
       "      <th>mof_4628</th>\n",
       "      <td>0.153757</td>\n",
       "      <td>0.126770</td>\n",
       "      <td>0.781615</td>\n",
       "      <td>0.462217</td>\n",
       "      <td>0.37194</td>\n",
       "      <td>0.0</td>\n",
       "      <td>0.0</td>\n",
       "      <td>0.0</td>\n",
       "      <td>0.0</td>\n",
       "      <td>0.0</td>\n",
       "      <td>...</td>\n",
       "      <td>0.002874</td>\n",
       "      <td>0.001868</td>\n",
       "      <td>0.001437</td>\n",
       "      <td>0.003017</td>\n",
       "      <td>0.002299</td>\n",
       "      <td>0.001868</td>\n",
       "      <td>0.002011</td>\n",
       "      <td>0.002730</td>\n",
       "      <td>0.001580</td>\n",
       "      <td>0.577011</td>\n",
       "    </tr>\n",
       "    <tr>\n",
       "      <th>soj+N356+E224</th>\n",
       "      <td>0.190451</td>\n",
       "      <td>0.136822</td>\n",
       "      <td>0.572725</td>\n",
       "      <td>0.436973</td>\n",
       "      <td>0.38420</td>\n",
       "      <td>0.0</td>\n",
       "      <td>0.0</td>\n",
       "      <td>0.0</td>\n",
       "      <td>0.0</td>\n",
       "      <td>0.0</td>\n",
       "      <td>...</td>\n",
       "      <td>0.001500</td>\n",
       "      <td>0.002015</td>\n",
       "      <td>0.001415</td>\n",
       "      <td>0.001586</td>\n",
       "      <td>0.001415</td>\n",
       "      <td>0.002186</td>\n",
       "      <td>0.001286</td>\n",
       "      <td>0.001543</td>\n",
       "      <td>0.001543</td>\n",
       "      <td>0.584019</td>\n",
       "    </tr>\n",
       "    <tr>\n",
       "      <th>yff+N206+E70</th>\n",
       "      <td>0.260347</td>\n",
       "      <td>0.173679</td>\n",
       "      <td>0.555705</td>\n",
       "      <td>0.327200</td>\n",
       "      <td>0.49666</td>\n",
       "      <td>0.0</td>\n",
       "      <td>0.0</td>\n",
       "      <td>0.0</td>\n",
       "      <td>0.0</td>\n",
       "      <td>0.0</td>\n",
       "      <td>...</td>\n",
       "      <td>0.001668</td>\n",
       "      <td>0.001919</td>\n",
       "      <td>0.001835</td>\n",
       "      <td>0.001251</td>\n",
       "      <td>0.001460</td>\n",
       "      <td>0.001418</td>\n",
       "      <td>0.001168</td>\n",
       "      <td>0.001710</td>\n",
       "      <td>0.001627</td>\n",
       "      <td>0.454913</td>\n",
       "    </tr>\n",
       "  </tbody>\n",
       "</table>\n",
       "<p>5 rows × 55 columns</p>\n",
       "</div>"
      ],
      "text/plain": [
       "                                  LCD       PLD   Vol_ASA  Grav_ASA  \\\n",
       "MOF                                                                   \n",
       "bbc+N218+N514+E192+E67+E210  0.312735  0.267591  0.460072  0.595613   \n",
       "unj+N237+E175                0.268162  0.205742  0.476590  0.417900   \n",
       "mof_4628                     0.153757  0.126770  0.781615  0.462217   \n",
       "soj+N356+E224                0.190451  0.136822  0.572725  0.436973   \n",
       "yff+N206+E70                 0.260347  0.173679  0.555705  0.327200   \n",
       "\n",
       "                             Void_fraction  0.0  0.02  0.04  0.06  0.08  ...  \\\n",
       "MOF                                                                      ...   \n",
       "bbc+N218+N514+E192+E67+E210        0.63358  0.0   0.0   0.0   0.0   0.0  ...   \n",
       "unj+N237+E175                      0.58442  0.0   0.0   0.0   0.0   0.0  ...   \n",
       "mof_4628                           0.37194  0.0   0.0   0.0   0.0   0.0  ...   \n",
       "soj+N356+E224                      0.38420  0.0   0.0   0.0   0.0   0.0  ...   \n",
       "yff+N206+E70                       0.49666  0.0   0.0   0.0   0.0   0.0  ...   \n",
       "\n",
       "                                  0.8      0.82      0.84      0.86      0.88  \\\n",
       "MOF                                                                             \n",
       "bbc+N218+N514+E192+E67+E210  0.001502  0.001568  0.001101  0.001435  0.001368   \n",
       "unj+N237+E175                0.001478  0.001642  0.001724  0.001067  0.000493   \n",
       "mof_4628                     0.002874  0.001868  0.001437  0.003017  0.002299   \n",
       "soj+N356+E224                0.001500  0.002015  0.001415  0.001586  0.001415   \n",
       "yff+N206+E70                 0.001668  0.001919  0.001835  0.001251  0.001460   \n",
       "\n",
       "                                  0.9      0.92      0.94      0.96      0.98  \n",
       "MOF                                                                            \n",
       "bbc+N218+N514+E192+E67+E210  0.001001  0.001134  0.001235  0.000934  0.341041  \n",
       "unj+N237+E175                0.001642  0.001314  0.001314  0.001314  0.378571  \n",
       "mof_4628                     0.001868  0.002011  0.002730  0.001580  0.577011  \n",
       "soj+N356+E224                0.002186  0.001286  0.001543  0.001543  0.584019  \n",
       "yff+N206+E70                 0.001418  0.001168  0.001710  0.001627  0.454913  \n",
       "\n",
       "[5 rows x 55 columns]"
      ]
     },
     "execution_count": 76,
     "metadata": {},
     "output_type": "execute_result"
    }
   ],
   "source": [
    "f_input_df.head()"
   ]
  },
  {
   "cell_type": "code",
   "execution_count": 77,
   "id": "appreciated-sending",
   "metadata": {
    "scrolled": true
   },
   "outputs": [],
   "source": [
    "## normalize labels\n",
    "# 1: 1bar, 2: 2bar, 3: 5.8bar, 4: 10bar, 5: 15bar, 6: 20bar, 7: 30bar, 8:40 bar, 9: 50bar, 10: 60bar, 11:65bar, 12: 80bar, 13: 90bar, 14: 100bar\n",
    "# (low p) 1 : 0.25bar, 2:, 0.5bar, 3 : 0.75bar / else is not meaningful\n",
    "l_data = l_input_df[:][14]"
   ]
  },
  {
   "cell_type": "code",
   "execution_count": 78,
   "id": "scientific-conclusion",
   "metadata": {},
   "outputs": [
    {
     "data": {
      "image/png": "[encoded data removed]",
      "text/plain": [
       "<Figure size 432x288 with 1 Axes>"
      ]
     },
     "metadata": {
      "needs_background": "light"
     },
     "output_type": "display_data"
    }
   ],
   "source": [
    "plt.hist(l_data)\n",
    "plt.show()"
   ]
  },
  {
   "cell_type": "code",
   "execution_count": 79,
   "id": "gross-cleaners",
   "metadata": {
    "scrolled": true
   },
   "outputs": [
    {
     "name": "stdout",
     "output_type": "stream",
     "text": [
      "291.813232\n",
      "0.0\n"
     ]
    }
   ],
   "source": [
    "print(np.max(l_data))\n",
    "print(np.min(l_data))"
   ]
  },
  {
   "cell_type": "code",
   "execution_count": 80,
   "id": "rubber-faculty",
   "metadata": {},
   "outputs": [],
   "source": [
    "max_v = 300\n",
    "min_v = 0"
   ]
  },
  {
   "cell_type": "code",
   "execution_count": 81,
   "id": "taken-liberia",
   "metadata": {
    "scrolled": true
   },
   "outputs": [],
   "source": [
    "## normalize data\n",
    "l_data = (l_data - min_v) / (max_v - min_v)"
   ]
  },
  {
   "cell_type": "code",
   "execution_count": 82,
   "id": "clinical-pennsylvania",
   "metadata": {},
   "outputs": [],
   "source": [
    "f_data = f_input_df.copy()"
   ]
  },
  {
   "cell_type": "markdown",
   "id": "constitutional-lunch",
   "metadata": {},
   "source": [
    "## Prediction"
   ]
  },
  {
   "cell_type": "code",
   "execution_count": 83,
   "id": "sunrise-trainer",
   "metadata": {},
   "outputs": [],
   "source": [
    "# Plz be careful with pressure.\n",
    "prefix = \"../checkpoint/source_geo+gridhist/CH4_pm+tb_ai_100bar/\"\n",
    "\n",
    "raw_path = prefix\n",
    "\n",
    "# load test data used in the training\n",
    "with open(f\"{raw_path}/test_data.pickle\", \"rb\") as f:\n",
    "    test_data = pickle.load(f)\n",
    "\n",
    "# load save weights\n",
    "save_weights_path = str(list(Path(raw_path).glob(\"*.h5\"))[0])"
   ]
  },
  {
   "cell_type": "code",
   "execution_count": 84,
   "id": "streaming-mustang",
   "metadata": {},
   "outputs": [
    {
     "name": "stdout",
     "output_type": "stream",
     "text": [
      "test data : 4769\n"
     ]
    }
   ],
   "source": [
    "print(\"test data : {}\".format(len(test_data)))"
   ]
  },
  {
   "cell_type": "code",
   "execution_count": 85,
   "id": "substantial-parade",
   "metadata": {},
   "outputs": [],
   "source": [
    "dataloader = DataLoader()"
   ]
  },
  {
   "cell_type": "code",
   "execution_count": 86,
   "id": "decent-monitor",
   "metadata": {},
   "outputs": [],
   "source": [
    "test_f_data, test_l_data = dataloader.arrange_data(f_data, l_data, test_data)\n",
    "\n",
    "test_dataset = dataloader.make_dataset(np.array(test_f_data), np.array(test_l_data),\n",
    "                           batch_size=len(test_l_data), shuffle=False, repeat=False)\n",
    "\n",
    "test_dataset = test_dataset.batch(len(test_l_data))"
   ]
  },
  {
   "cell_type": "code",
   "execution_count": 87,
   "id": "neutral-demographic",
   "metadata": {},
   "outputs": [],
   "source": [
    "# necessary function\n",
    "def cal_mse(y_true, y_pred):\n",
    "    loss = tf.reduce_mean(tf.square(y_true-y_pred))\n",
    "    return loss"
   ]
  },
  {
   "cell_type": "code",
   "execution_count": 88,
   "id": "vulnerable-anchor",
   "metadata": {},
   "outputs": [],
   "source": [
    "from sklearn.metrics import r2_score"
   ]
  },
  {
   "cell_type": "code",
   "execution_count": 90,
   "id": "legitimate-bandwidth",
   "metadata": {},
   "outputs": [
    {
     "name": "stdout",
     "output_type": "stream",
     "text": [
      "WARNING:tensorflow:11 out of the last 11 calls to <function DiffNET.call at 0x7f1f7f2e8670> triggered tf.function retracing. Tracing is expensive and the excessive number of tracings could be due to (1) creating @tf.function repeatedly in a loop, (2) passing tensors with different shapes, (3) passing Python objects instead of tensors. For (1), please define your @tf.function outside of the loop. For (2), @tf.function has experimental_relax_shapes=True option that relaxes argument shapes that can avoid unnecessary retracing. For (3), please refer to https://www.tensorflow.org/guide/function#controlling_retracing and https://www.tensorflow.org/api_docs/python/tf/function for  more details.\n",
      "WARNING:tensorflow:11 out of the last 11 calls to <function DiffNET.call at 0x7f1f7f2e8670> triggered tf.function retracing. Tracing is expensive and the excessive number of tracings could be due to (1) creating @tf.function repeatedly in a loop, (2) passing tensors with different shapes, (3) passing Python objects instead of tensors. For (1), please define your @tf.function outside of the loop. For (2), @tf.function has experimental_relax_shapes=True option that relaxes argument shapes that can avoid unnecessary retracing. For (3), please refer to https://www.tensorflow.org/guide/function#controlling_retracing and https://www.tensorflow.org/api_docs/python/tf/function for  more details.\n"
     ]
    },
    {
     "data": {
      "image/png": "[encoded data removed]",
      "text/plain": [
       "<Figure size 720x720 with 1 Axes>"
      ]
     },
     "metadata": {
      "needs_background": "light"
     },
     "output_type": "display_data"
    }
   ],
   "source": [
    "# load diffnet\n",
    "diffnet = DiffNET(input_size=(len(f_data.columns),))\n",
    "diffnet.initialize_weights()\n",
    "diffnet.load_weights(save_weights_path)\n",
    "\n",
    "# load test set data\n",
    "test_y_pred = []\n",
    "test_y_true = []\n",
    "\n",
    "for x, y in test_dataset:\n",
    "    _y = diffnet(x, training=False)\n",
    "    test_y_pred += _y.numpy().reshape(-1).tolist()\n",
    "    test_y_true += y.numpy().reshape(-1).tolist()\n",
    "\n",
    "test_y_pred = np.array(test_y_pred)\n",
    "test_y_true = np.array(test_y_true)\n",
    "\n",
    "# convert into raw value\n",
    "y_true_ = test_y_true * (max_v - min_v) + min_v\n",
    "y_pred_ = test_y_pred * (max_v - min_v) + min_v\n",
    "\n",
    "plt.figure(figsize=(10,10))\n",
    "plt.scatter(y_true_, y_pred_, alpha=0.5, s=100)\n",
    "plt.plot([min_v, max_v], [min_v, max_v], color=\"black\", ls=\":\")\n",
    "plt.xticks(fontsize=20)\n",
    "plt.yticks(fontsize=20)\n",
    "plt.xlabel(\"True\", fontsize=25)\n",
    "plt.ylabel(\"Prediction\", fontsize=25)\n",
    "plt.show()"
   ]
  },
  {
   "cell_type": "code",
   "execution_count": null,
   "id": "respiratory-pollution",
   "metadata": {},
   "outputs": [],
   "source": []
  }
 ],
 "metadata": {
  "kernelspec": {
   "display_name": "Python 3",
   "language": "python",
   "name": "python3"
  },
  "language_info": {
   "codemirror_mode": {
    "name": "ipython",
    "version": 3
   },
   "file_extension": ".py",
   "mimetype": "text/x-python",
   "name": "python",
   "nbconvert_exporter": "python",
   "pygments_lexer": "ipython3",
   "version": "3.8.8"
  }
 },
 "nbformat": 4,
 "nbformat_minor": 5
}
